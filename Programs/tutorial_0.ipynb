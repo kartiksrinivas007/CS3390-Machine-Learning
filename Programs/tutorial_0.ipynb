{
 "cells": [
  {
   "cell_type": "markdown",
   "metadata": {},
   "source": [
    "### Question 1"
   ]
  },
  {
   "cell_type": "code",
   "execution_count": 36,
   "metadata": {},
   "outputs": [],
   "source": [
    "import numpy as np\n",
    "# %matplotlib inline\n",
    "import matplotlib.pyplot as plt"
   ]
  },
  {
   "cell_type": "markdown",
   "metadata": {},
   "source": [
    "### Question 2"
   ]
  },
  {
   "cell_type": "code",
   "execution_count": 37,
   "metadata": {},
   "outputs": [
    {
     "name": "stdout",
     "output_type": "stream",
     "text": [
      "[0 0 0 0 0 0 0 0 0 0]\n"
     ]
    }
   ],
   "source": [
    "x = np.zeros((10), dtype= int)\n",
    "print(x)"
   ]
  },
  {
   "cell_type": "markdown",
   "metadata": {},
   "source": [
    "### Question 3"
   ]
  },
  {
   "cell_type": "code",
   "execution_count": 38,
   "metadata": {},
   "outputs": [
    {
     "name": "stdout",
     "output_type": "stream",
     "text": [
      "[ True False False  True False False  True False False  True False]\n",
      "[14 52 47 14 37 32 14 22 17 14  7]\n"
     ]
    },
    {
     "data": {
      "text/plain": [
       "[<matplotlib.lines.Line2D at 0x7f702079c1c0>]"
      ]
     },
     "execution_count": 38,
     "metadata": {},
     "output_type": "execute_result"
    },
    {
     "data": {
      "image/png": "[encoded data removed]",
      "text/plain": [
       "<Figure size 432x288 with 1 Axes>"
      ]
     },
     "metadata": {
      "needs_background": "light"
     },
     "output_type": "display_data"
    }
   ],
   "source": [
    "a = np.arange(7, 62, 5)\n",
    "a = np.flip(a)\n",
    "range = np.arange(np.size(a))\n",
    "mask = range%3 == 0\n",
    "a[mask] = 14\n",
    "print(mask)\n",
    "print(a)\n",
    "x = np.arange(1,12,1)\n",
    "plt.plot(x, a)"
   ]
  },
  {
   "cell_type": "markdown",
   "metadata": {},
   "source": [
    "### Question 4"
   ]
  },
  {
   "cell_type": "code",
   "execution_count": 39,
   "metadata": {},
   "outputs": [
    {
     "name": "stdout",
     "output_type": "stream",
     "text": [
      "[-1.0856306   0.99734545  0.2829785  -1.50629471 -0.57860025  1.65143654\n",
      " -2.42667924 -0.42891263  1.26593626 -0.8667404 ]\n",
      "[ 3.9143694   0.99734545  5.2829785  -1.50629471  4.42139975  1.65143654\n",
      "  2.57332076 -0.42891263  6.26593626 -0.8667404 ]\n"
     ]
    }
   ],
   "source": [
    "np.random.seed(123)\n",
    "a = np.random.randn(500000)\n",
    "print(a[0:10])\n",
    "mask = np.arange(len(a))\n",
    "indices = np.where(mask %2 == 0)\n",
    "a[indices] = a[indices] + 5\n",
    "print(a[0:10])"
   ]
  },
  {
   "cell_type": "markdown",
   "metadata": {},
   "source": [
    "### Question 5"
   ]
  },
  {
   "cell_type": "code",
   "execution_count": 40,
   "metadata": {},
   "outputs": [
    {
     "name": "stdout",
     "output_type": "stream",
     "text": [
      "[[2. 1. 1. 1. 1.]\n",
      " [1. 2. 1. 1. 1.]\n",
      " [1. 1. 2. 1. 1.]\n",
      " [1. 1. 1. 2. 1.]\n",
      " [1. 1. 1. 1. 2.]]\n"
     ]
    },
    {
     "data": {
      "text/plain": [
       "<matplotlib.image.AxesImage at 0x7f7020208340>"
      ]
     },
     "execution_count": 40,
     "metadata": {},
     "output_type": "execute_result"
    },
    {
     "data": {
      "image/png": "[encoded data removed]",
      "text/plain": [
       "<Figure size 432x288 with 1 Axes>"
      ]
     },
     "metadata": {
      "needs_background": "light"
     },
     "output_type": "display_data"
    }
   ],
   "source": [
    "A = np.ones((5,5))\n",
    "B = np.eye(5)\n",
    "mask = np.where(B > 0) #insane!\n",
    "A[mask] = A[mask]*2\n",
    "print(A)\n",
    "plt.imshow(A)\n"
   ]
  },
  {
   "cell_type": "markdown",
   "metadata": {},
   "source": [
    "### Question 6"
   ]
  },
  {
   "cell_type": "code",
   "execution_count": 41,
   "metadata": {},
   "outputs": [
    {
     "name": "stdout",
     "output_type": "stream",
     "text": [
      "[[ 1.31654585 -0.26210929 -1.33368434  0.1539044   1.03168484  1.50668357]\n",
      " [ 1.7086809  -0.28914813  1.72815515  1.61288384  5.60453009  4.29219159]\n",
      " [ 1.75744029 -0.68803433 -5.05331048  0.40152278 -2.63313543 -1.22800022]\n",
      " [-0.23132642  1.19271416  4.52256894  1.45495249  4.7507941   0.18027231]\n",
      " [ 1.19230838 -0.35283244 -1.21614254  0.87296059  0.92829401  0.80344498]]\n"
     ]
    }
   ],
   "source": [
    "A = np.random.randn(5,4)\n",
    "B = np.random.randn(4,6)\n",
    "C =A@B\n",
    "print(C)"
   ]
  },
  {
   "cell_type": "code",
   "execution_count": 42,
   "metadata": {},
   "outputs": [
    {
     "name": "stdout",
     "output_type": "stream",
     "text": [
      "[ 1.31654585 -0.26210929 -1.33368434  0.1539044   1.03168484  1.50668357\n",
      "  1.7086809  -0.28914813  1.72815515  1.61288384  5.60453009  4.29219159\n",
      "  1.75744029 -0.68803433 -5.05331048  0.40152278 -2.63313543 -1.22800022\n",
      " -0.23132642  1.19271416  4.52256894  1.45495249  4.7507941   0.18027231\n",
      "  1.19230838 -0.35283244 -1.21614254  0.87296059  0.92829401  0.80344498]\n"
     ]
    }
   ],
   "source": [
    "B = B.reshape(8, 3)\n",
    "C_flat = C.flatten()\n",
    "C_flat = C.ravel()\n",
    "print(C_flat)"
   ]
  },
  {
   "cell_type": "code",
   "execution_count": 43,
   "metadata": {},
   "outputs": [
    {
     "name": "stdout",
     "output_type": "stream",
     "text": [
      "[[-0.47451128 -2.08882121 -1.28492748 -0.36239809]\n",
      " [ 1.00114398 -1.40855898 -0.62167073  2.74164491]\n",
      " [-0.73562666 -2.76024418 -0.6149411  -2.68004561]\n",
      " [-0.30298303  0.08287272  1.4285715   3.19387485]\n",
      " [ 0.202959   -1.32794081 -0.15519958  0.05290002]]\n"
     ]
    }
   ],
   "source": [
    "means = np.mean(A, axis = 1, keepdims=True)\n",
    "# print(means)\n",
    "A = A + means\n",
    "print(A)"
   ]
  },
  {
   "cell_type": "markdown",
   "metadata": {},
   "source": [
    "### Question 7"
   ]
  },
  {
   "cell_type": "code",
   "execution_count": 68,
   "metadata": {},
   "outputs": [
    {
     "name": "stdout",
     "output_type": "stream",
     "text": [
      "2.958625445893176\n",
      "-3.2310550079193123\n"
     ]
    },
    {
     "data": {
      "image/png": "[encoded data removed]",
      "text/plain": [
       "<Figure size 432x288 with 1 Axes>"
      ]
     },
     "metadata": {
      "needs_background": "light"
     },
     "output_type": "display_data"
    }
   ],
   "source": [
    "rng = np.random.RandomState(123)\n",
    "random_normal_vector = rng.normal(0,1,size=(500,))\n",
    "# print(random_normal_vector)\n",
    "max = np.max(random_normal_vector)\n",
    "print(max)\n",
    "min = np.min(random_normal_vector)\n",
    "print(min)\n",
    "\n",
    "random_uniform_vector= rng.uniform(0,1,500)\n",
    "# print(random_uniform_vector)\n",
    "## etc\n",
    "plt.hist(random_normal_vector, bins = np.arange(0,1,0.01), alpha =0.7)\n",
    "plt.hist(random_uniform_vector, bins =  np.arange(0,1,0.01) ,alpha = 0.5)\n",
    "plt.show()"
   ]
  },
  {
   "cell_type": "code",
   "execution_count": 67,
   "metadata": {},
   "outputs": [
    {
     "data": {
      "text/plain": [
       "<matplotlib.collections.PathCollection at 0x7f701f746ee0>"
      ]
     },
     "execution_count": 67,
     "metadata": {},
     "output_type": "execute_result"
    },
    {
     "data": {
      "image/png": "[encoded data removed]",
      "text/plain": [
       "<Figure size 432x288 with 1 Axes>"
      ]
     },
     "metadata": {
      "needs_background": "light"
     },
     "output_type": "display_data"
    }
   ],
   "source": [
    "plt.scatter(random_normal_vector, random_uniform_vector)"
   ]
  },
  {
   "cell_type": "markdown",
   "metadata": {},
   "source": [
    "### Question 8"
   ]
  },
  {
   "cell_type": "code",
   "execution_count": 45,
   "metadata": {},
   "outputs": [
    {
     "data": {
      "text/plain": [
       "array([[15.07415538,  1.63381596, 19.01881407, 15.60561049,  1.92452764,\n",
       "         1.23308144,  7.42241395],\n",
       "       [ 1.63381596,  1.03438376,  2.32693051,  1.11085588,  0.06445188,\n",
       "         0.09927769,  0.85257639],\n",
       "       [19.01881407,  2.32693051, 24.58998687, 19.48255822,  2.31718683,\n",
       "         1.5394244 ,  9.43773899],\n",
       "       [15.60561049,  1.11085588, 19.48255822, 17.27269134,  1.95976354,\n",
       "         1.41872517,  7.24894321],\n",
       "       [ 1.92452764,  0.06445188,  2.31718683,  1.95976354,  0.4067333 ,\n",
       "         0.08726933,  1.00941281],\n",
       "       [ 1.23308144,  0.09927769,  1.5394244 ,  1.41872517,  0.08726933,\n",
       "         0.25225565,  0.52385186],\n",
       "       [ 7.42241395,  0.85257639,  9.43773899,  7.24894321,  1.00941281,\n",
       "         0.52385186,  4.01030042]])"
      ]
     },
     "execution_count": 45,
     "metadata": {},
     "output_type": "execute_result"
    }
   ],
   "source": [
    "A =  np.random.randn(7, 7)\n",
    "B = A.T @ A\n",
    "np.linalg.det(A)\n",
    "np.linalg.inv(B)"
   ]
  }
 ],
 "metadata": {
  "kernelspec": {
   "display_name": "Python 3.9.13 ('ML')",
   "language": "python",
   "name": "python3"
  },
  "language_info": {
   "codemirror_mode": {
    "name": "ipython",
    "version": 3
   },
   "file_extension": ".py",
   "mimetype": "text/x-python",
   "name": "python",
   "nbconvert_exporter": "python",
   "pygments_lexer": "ipython3",
   "version": "3.9.13"
  },
  "orig_nbformat": 4,
  "vscode": {
   "interpreter": {
    "hash": "d7168d3d9c93846072623fcee364c7550a375b6518cee754cf310e87f776e651"
   }
  }
 },
 "nbformat": 4,
 "nbformat_minor": 2
}
