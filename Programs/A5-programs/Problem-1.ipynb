{
 "cells": [
  {
   "cell_type": "code",
   "execution_count": 82,
   "metadata": {},
   "outputs": [],
   "source": [
    "import numpy as np\n",
    "import pandas as pd\n",
    "from sklearn import *\n",
    "from sklearn.model_selection import *\n",
    "import random\n",
    "random.seed(0)"
   ]
  },
  {
   "cell_type": "code",
   "execution_count": 83,
   "metadata": {},
   "outputs": [],
   "source": [
    "feature_data = pd.read_excel('Datasets/LSVT_voice_rehabilitation/LSVT_voice_rehabilitation.xlsx', 0)\n",
    "label_data = pd.read_excel('Datasets/LSVT_voice_rehabilitation/LSVT_voice_rehabilitation.xlsx', 1)"
   ]
  },
  {
   "cell_type": "code",
   "execution_count": 84,
   "metadata": {},
   "outputs": [
    {
     "name": "stdout",
     "output_type": "stream",
     "text": [
      "     Binary class 1=acceptable, 2=unacceptable\n",
      "0                                            0\n",
      "1                                            1\n",
      "2                                            1\n",
      "3                                            0\n",
      "4                                            1\n",
      "..                                         ...\n",
      "121                                          1\n",
      "122                                          1\n",
      "123                                          0\n",
      "124                                          1\n",
      "125                                          1\n",
      "\n",
      "[126 rows x 1 columns]\n"
     ]
    }
   ],
   "source": [
    "label_data.loc[label_data[\"Binary class 1=acceptable, 2=unacceptable\"] == 1] = 0\n",
    "label_data.loc[label_data[\"Binary class 1=acceptable, 2=unacceptable\"] == 2] = 1\n",
    "print(label_data)"
   ]
  },
  {
   "cell_type": "code",
   "execution_count": 85,
   "metadata": {},
   "outputs": [
    {
     "name": "stdout",
     "output_type": "stream",
     "text": [
      "0.9999999999999999\n"
     ]
    }
   ],
   "source": [
    "feature_data = feature_data.to_numpy()\n",
    "feature_data = preprocessing.normalize(feature_data, axis = 0)\n",
    "print(np.linalg.norm(feature_data[:,3]))\n",
    "label_data = label_data.to_numpy()"
   ]
  },
  {
   "cell_type": "code",
   "execution_count": 86,
   "metadata": {},
   "outputs": [
    {
     "name": "stdout",
     "output_type": "stream",
     "text": [
      "(126, 311)\n"
     ]
    }
   ],
   "source": [
    "Data = np.concatenate((feature_data, label_data), axis = 1)\n",
    "print(Data.shape)"
   ]
  },
  {
   "cell_type": "code",
   "execution_count": 87,
   "metadata": {},
   "outputs": [],
   "source": [
    "#now do cross validation\n",
    "X_train,X_test, y_train, y_test = train_test_split(feature_data, label_data, shuffle = True, random_state = 42, test_size = 0.5)"
   ]
  },
  {
   "cell_type": "code",
   "execution_count": 88,
   "metadata": {},
   "outputs": [],
   "source": [
    "X_train.shape\n",
    "y_train = np.reshape(y_train, -1)"
   ]
  },
  {
   "cell_type": "code",
   "execution_count": 89,
   "metadata": {},
   "outputs": [],
   "source": [
    "C_vals = np.array([0.01, 0.1, 1, 10, 100])"
   ]
  },
  {
   "cell_type": "code",
   "execution_count": 90,
   "metadata": {},
   "outputs": [
    {
     "name": "stdout",
     "output_type": "stream",
     "text": [
      "Best C =  100.0\n",
      "LogisticRegression(C=100.0)\n",
      "0.8412698412698413\n"
     ]
    }
   ],
   "source": [
    "best_score = 0\n",
    "best_c = 100\n",
    "best_model = linear_model.LogisticRegression()\n",
    "for c in C_vals:\n",
    "    model = linear_model.LogisticRegression(fit_intercept=True, C=c)\n",
    "    scores = model_selection.cross_val_score(model, X_train,y_train, cv = 3)\n",
    "    if(scores.mean() > best_score):\n",
    "        best_score = scores.mean()\n",
    "        best_c = c\n",
    "        best_model = model\n",
    "    else:\n",
    "        continue\n",
    "\n",
    "print(\"Best C = \", best_c)\n",
    "print(best_model)\n",
    "best_model.fit(X_train, y_train) #refit model on all training data after validation\n",
    "print(best_model.score(X_test, y_test))"
   ]
  },
  {
   "cell_type": "code",
   "execution_count": 91,
   "metadata": {},
   "outputs": [
    {
     "name": "stdout",
     "output_type": "stream",
     "text": [
      "0.8253968253968254\n"
     ]
    }
   ],
   "source": [
    "model_unreg = linear_model.LogisticRegression(fit_intercept=True, penalty=\"none\")\n",
    "model_unreg.fit(X_train,y_train)\n",
    "scores_unreg = model_unreg.score(X_test,y_test)\n",
    "print(scores_unreg)"
   ]
  },
  {
   "cell_type": "markdown",
   "metadata": {},
   "source": [
    "### Support Vector Machines\n",
    "\n",
    "---\n",
    "\n",
    "$$\n",
    "L = \\frac{1}{2} \\| w\\|^2  + \\frac{C}{m}\\sum_{i = 1}^{i = m} \\max ( 0, 1 - y_i w^T x_i)\n",
    "$$"
   ]
  },
  {
   "cell_type": "code",
   "execution_count": 92,
   "metadata": {},
   "outputs": [
    {
     "name": "stdout",
     "output_type": "stream",
     "text": [
      "best SVC value of C is =  100.0\n",
      "best model =  LinearSVC()\n",
      "0.8412698412698413\n"
     ]
    }
   ],
   "source": [
    "best_svm_score = 0\n",
    "best_svm_model = svm.LinearSVC()\n",
    "best_svm_c = 0\n",
    "for c in C_vals:\n",
    "    model_svc = svm.LinearSVC(penalty=\"l2\", C = c)\n",
    "    scores = model_selection.cross_val_score(model_svc, X_train, y_train, cv = 3)\n",
    "    if(best_svm_score < scores.mean()):\n",
    "        best_svm_score = scores.mean()\n",
    "        best_svm_c = c\n",
    "        best_svm_model = model_svc\n",
    "print(\"best SVC value of C is = \", best_c)\n",
    "print(\"best model = \", best_svm_model)\n",
    "best_svm_model.fit(X_train, y_train)\n",
    "print(best_svm_model.score(X_test, y_test))\n",
    "\n"
   ]
  }
 ],
 "metadata": {
  "kernelspec": {
   "display_name": "Python 3.10.6 ('CS3390')",
   "language": "python",
   "name": "python3"
  },
  "language_info": {
   "codemirror_mode": {
    "name": "ipython",
    "version": 3
   },
   "file_extension": ".py",
   "mimetype": "text/x-python",
   "name": "python",
   "nbconvert_exporter": "python",
   "pygments_lexer": "ipython3",
   "version": "3.10.6"
  },
  "orig_nbformat": 4,
  "vscode": {
   "interpreter": {
    "hash": "23d5d8ac23103f57c325db90d8c8d421369c42c553c2d79c7ae144e1107f4c5c"
   }
  }
 },
 "nbformat": 4,
 "nbformat_minor": 2
}
