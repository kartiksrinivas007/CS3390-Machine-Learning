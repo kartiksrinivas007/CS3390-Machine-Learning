{
 "cells": [
  {
   "cell_type": "code",
   "execution_count": 46,
   "metadata": {},
   "outputs": [],
   "source": [
    "import numpy as np\n",
    "from sklearn import *"
   ]
  },
  {
   "cell_type": "code",
   "execution_count": 47,
   "metadata": {},
   "outputs": [],
   "source": [
    "X = np.array([67, 79, 71, 68, 67, 60])\n",
    "y = np.array([0,0,0,1,1,1])"
   ]
  },
  {
   "cell_type": "code",
   "execution_count": 48,
   "metadata": {},
   "outputs": [],
   "source": [
    "mask_1 = np.where(y == 1)\n",
    "mask_0 = np.where(y == 0)\n"
   ]
  },
  {
   "cell_type": "code",
   "execution_count": 49,
   "metadata": {},
   "outputs": [],
   "source": [
    "X_1 = X[mask_1]\n",
    "X_0 = X[mask_0]"
   ]
  },
  {
   "cell_type": "code",
   "execution_count": 50,
   "metadata": {},
   "outputs": [
    {
     "name": "stdout",
     "output_type": "stream",
     "text": [
      "[68 67 60]\n"
     ]
    }
   ],
   "source": [
    "print(X_1)"
   ]
  },
  {
   "cell_type": "code",
   "execution_count": 51,
   "metadata": {},
   "outputs": [],
   "source": [
    "mu_1 = np.mean(X_1)\n",
    "mu_0 = np.mean(X_0)"
   ]
  },
  {
   "cell_type": "code",
   "execution_count": 52,
   "metadata": {},
   "outputs": [],
   "source": [
    "sig_1 = np.std(X_1)\n",
    "sig_0 = np.std(X_0)"
   ]
  },
  {
   "cell_type": "code",
   "execution_count": 53,
   "metadata": {},
   "outputs": [],
   "source": [
    "class Gaussian:\n",
    "    def __init__(self, mu, sig, dim):\n",
    "        self.dim = dim\n",
    "        self.mu = mu\n",
    "        self.sig = sig\n",
    "    def density(self, x):\n",
    "        if(self.dim != 1):\n",
    "            norm_const = 1/( ( (2*np.pi)**(self.dim/2)) * (np.linalg.det(self.sig)**0.5) )\n",
    "            exp_val = np.exp( -0.5 * (x - self.mu).T @ np.linalg.inv(self.sig)  @ (x - self.mu))\n",
    "        else:\n",
    "            norm_const = 1/(self.sig * np.sqrt(2 * np.pi) )\n",
    "            exp_val = np.exp(-0.5 * (   (   (x - self.mu)/self.sig) **2)    )\n",
    "        return norm_const* exp_val\n"
   ]
  },
  {
   "cell_type": "code",
   "execution_count": 54,
   "metadata": {},
   "outputs": [
    {
     "data": {
      "text/plain": [
       "0.016201750370000784"
      ]
     },
     "execution_count": 54,
     "metadata": {},
     "output_type": "execute_result"
    }
   ],
   "source": [
    "g_0  = Gaussian(mu_0, sig_0, 1) \n",
    "g_1 = Gaussian(mu_1, sig_1, dim = 1)\n",
    "g_0.density(72)\n",
    "g_1.density(72)"
   ]
  }
 ],
 "metadata": {
  "kernelspec": {
   "display_name": "Python 3.10.4 ('CS3390')",
   "language": "python",
   "name": "python3"
  },
  "language_info": {
   "codemirror_mode": {
    "name": "ipython",
    "version": 3
   },
   "file_extension": ".py",
   "mimetype": "text/x-python",
   "name": "python",
   "nbconvert_exporter": "python",
   "pygments_lexer": "ipython3",
   "version": "3.10.4"
  },
  "orig_nbformat": 4,
  "vscode": {
   "interpreter": {
    "hash": "c435ea9329b52adc96d1829203b8924bdc1f207eb2df915b4a8296cacae3fee8"
   }
  }
 },
 "nbformat": 4,
 "nbformat_minor": 2
}
