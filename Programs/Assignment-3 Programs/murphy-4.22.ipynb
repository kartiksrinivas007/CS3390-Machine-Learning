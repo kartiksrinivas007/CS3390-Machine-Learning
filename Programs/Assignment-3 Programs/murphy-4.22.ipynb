{
 "cells": [
  {
   "cell_type": "code",
   "execution_count": 42,
   "metadata": {},
   "outputs": [],
   "source": [
    "import numpy as np\n"
   ]
  },
  {
   "cell_type": "code",
   "execution_count": 43,
   "metadata": {},
   "outputs": [],
   "source": [
    "class Gaussian:\n",
    "    def __init__(self, mu, sig, dim):\n",
    "        self.dim = dim\n",
    "        self.mu = mu\n",
    "        self.sig = sig\n",
    "    def density(self, x):\n",
    "        if(self.dim != 1):\n",
    "            norm_const = 1/( ( (2*np.pi)**(self.dim/2)) * (np.linalg.det(self.sig)**0.5) )\n",
    "            exp_val = np.exp( -0.5 * (x - self.mu).T @ np.linalg.inv(self.sig)  @ (x - self.mu))\n",
    "        else:\n",
    "            norm_const = 1/(self.sig * np.sqrt(2 * np.pi) )\n",
    "            exp_val = np.exp(-0.5 * (   (   (x - self.mu)/self.sig) **2)    )\n",
    "        return norm_const* exp_val"
   ]
  },
  {
   "cell_type": "code",
   "execution_count": 44,
   "metadata": {},
   "outputs": [],
   "source": [
    "mu_1 = np.array([0, 0])\n",
    "mu_2  =  np.array([1,1])\n",
    "mu_3 = np.array([-1, 1])"
   ]
  },
  {
   "cell_type": "code",
   "execution_count": 45,
   "metadata": {},
   "outputs": [
    {
     "data": {
      "text/plain": [
       "array([[0.8, 0.2],\n",
       "       [0.2, 0.8]])"
      ]
     },
     "metadata": {},
     "output_type": "display_data"
    }
   ],
   "source": [
    "sig_1 = 0.7 * np.eye(2)\n",
    "sig_2 = np.array(([0.8, 0.2], [0.2, 0.8]))\n",
    "sig_3 = sig_2\n",
    "display(sig_2)"
   ]
  },
  {
   "cell_type": "code",
   "execution_count": 46,
   "metadata": {},
   "outputs": [],
   "source": [
    "g_1 = Gaussian(mu_1, sig_1,2)\n",
    "g_2 = Gaussian(mu_2, sig_2, 2)\n",
    "g_3 = Gaussian(mu_3, sig_3, 2)"
   ]
  },
  {
   "cell_type": "code",
   "execution_count": 47,
   "metadata": {},
   "outputs": [],
   "source": [
    "x_1 = np.array([0.5, 0.5])\n",
    "x_2  = np.array([-0.5, 0.5])"
   ]
  },
  {
   "cell_type": "code",
   "execution_count": 48,
   "metadata": {},
   "outputs": [
    {
     "name": "stdout",
     "output_type": "stream",
     "text": [
      "[0.15908049 0.16001875 0.03022364]\n",
      "[0.04983036 0.04983036 0.13545295]\n"
     ]
    }
   ],
   "source": [
    "def density_vector(x , g_1, g_2, g_3):\n",
    "    return np.array([g_1.density(x), g_2.density(x), g_3.density(x)])\n",
    "print(density_vector(x_1, g_1,g_2, g_3))\n",
    "print(density_vector(x_2, g_2, g_2, g_3))"
   ]
  },
  {
   "cell_type": "code",
   "execution_count": 49,
   "metadata": {},
   "outputs": [
    {
     "name": "stdout",
     "output_type": "stream",
     "text": [
      "2 1\n"
     ]
    }
   ],
   "source": [
    "class_x1   = np.argmax(density_vector(x_1, g_1, g_2, g_3), axis = 0) + 1\n",
    "class_x2 = np.argmax(density_vector(x_2, g_1, g_2, g_3), axis = 0) + 1\n",
    "print(class_x1 , class_x2)"
   ]
  },
  {
   "cell_type": "code",
   "execution_count": null,
   "metadata": {},
   "outputs": [],
   "source": []
  }
 ],
 "metadata": {
  "kernelspec": {
   "display_name": "Python 3.10.4 ('CS3390')",
   "language": "python",
   "name": "python3"
  },
  "language_info": {
   "codemirror_mode": {
    "name": "ipython",
    "version": 3
   },
   "file_extension": ".py",
   "mimetype": "text/x-python",
   "name": "python",
   "nbconvert_exporter": "python",
   "pygments_lexer": "ipython3",
   "version": "3.10.6"
  },
  "orig_nbformat": 4,
  "vscode": {
   "interpreter": {
    "hash": "c435ea9329b52adc96d1829203b8924bdc1f207eb2df915b4a8296cacae3fee8"
   }
  }
 },
 "nbformat": 4,
 "nbformat_minor": 2
}
