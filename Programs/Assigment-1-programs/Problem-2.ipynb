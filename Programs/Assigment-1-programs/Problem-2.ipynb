{
 "cells": [
  {
   "cell_type": "code",
   "execution_count": 1,
   "metadata": {},
   "outputs": [],
   "source": [
    "import numpy as np\n",
    "from sklearn import *"
   ]
  },
  {
   "cell_type": "code",
   "execution_count": 2,
   "metadata": {},
   "outputs": [],
   "source": [
    "m  = 60000;\n",
    "low = 1\n",
    "high = 40"
   ]
  },
  {
   "cell_type": "code",
   "execution_count": 3,
   "metadata": {},
   "outputs": [
    {
     "name": "stdout",
     "output_type": "stream",
     "text": [
      "[ 1  2  3  4  5  6  7  8  9 10 11 12 13 14 15 16 17 18 19 20 21 22 23 24\n",
      " 25 26 27 28 29 30 31 32 33 34 35 36 37 38 39]\n"
     ]
    }
   ],
   "source": [
    "d_vals = np.arange(low, high, 1)\n",
    "exp_var = []\n",
    "print(d_vals)"
   ]
  },
  {
   "cell_type": "code",
   "execution_count": 4,
   "metadata": {},
   "outputs": [],
   "source": [
    "def gen_x(d, m):\n",
    "    X = np.random.normal(0, 1, (d,2*m))\n",
    "    return X"
   ]
  },
  {
   "cell_type": "code",
   "execution_count": 5,
   "metadata": {},
   "outputs": [],
   "source": [
    "def gen_y(X,d,m,w_b):\n",
    "    y = np.zeros((2*m ,))\n",
    "    for i in range(2*m):\n",
    "        samp = np.random.normal(w_b @ X[:, i], 1)\n",
    "        y[i] = samp\n",
    "    return y"
   ]
  },
  {
   "cell_type": "code",
   "execution_count": 8,
   "metadata": {},
   "outputs": [],
   "source": [
    "def find_exp_var(d,m):\n",
    "    X = gen_x(d, m)\n",
    "    w_b = np.random.randn(d,) #the bayes optimal w\n",
    "    y = gen_y(X, d, m, w_b)\n",
    "    X_train, X_test, y_train, y_test = model_selection.train_test_split(X.T, y, test_size = 0.5, shuffle = True)\n",
    "    reg = linear_model.LinearRegression().fit(X_train, y_train)\n",
    "    score = reg.score(X_test,y_test)\n",
    "    coefficients = reg.coef_\n",
    "    y_predict = reg.predict(X_test)\n",
    "    exvar = metrics.explained_variance_score(y_test,y_predict)\n",
    "    return exvar\n"
   ]
  },
  {
   "cell_type": "code",
   "execution_count": 9,
   "metadata": {},
   "outputs": [
    {
     "data": {
      "text/plain": [
       "0.6884503523217769"
      ]
     },
     "execution_count": 9,
     "metadata": {},
     "output_type": "execute_result"
    }
   ],
   "source": [
    "find_exp_var(5, m)\n",
    "find_exp_var(6, m)"
   ]
  },
  {
   "cell_type": "code",
   "execution_count": 10,
   "metadata": {},
   "outputs": [
    {
     "data": {
      "text/plain": [
       "39"
      ]
     },
     "execution_count": 10,
     "metadata": {},
     "output_type": "execute_result"
    }
   ],
   "source": [
    "d_vals.shape[0]"
   ]
  },
  {
   "cell_type": "code",
   "execution_count": 11,
   "metadata": {},
   "outputs": [
    {
     "name": "stdout",
     "output_type": "stream",
     "text": [
      "Iteration : 0 exp_var :  0.08517419443223584\n",
      "Iteration : 1 exp_var :  0.8806423417974096\n",
      "Iteration : 2 exp_var :  0.8616698302265177\n",
      "Iteration : 3 exp_var :  0.7274778412268993\n",
      "Iteration : 4 exp_var :  0.7864834325190502\n",
      "Iteration : 5 exp_var :  0.906135836927793\n",
      "Iteration : 6 exp_var :  0.7750187354729472\n",
      "Iteration : 7 exp_var :  0.9248564947060786\n",
      "Iteration : 8 exp_var :  0.8674730957303187\n",
      "Iteration : 9 exp_var :  0.8420808355145644\n",
      "Iteration : 10 exp_var :  0.9337359642109867\n",
      "Iteration : 11 exp_var :  0.9026128928796625\n",
      "Iteration : 12 exp_var :  0.8788169109933176\n",
      "Iteration : 13 exp_var :  0.9566478061643445\n",
      "Iteration : 14 exp_var :  0.9271264756410506\n",
      "Iteration : 15 exp_var :  0.9640575605309976\n",
      "Iteration : 16 exp_var :  0.966341782837654\n",
      "Iteration : 17 exp_var :  0.9362980159240462\n",
      "Iteration : 18 exp_var :  0.9674437703175207\n",
      "Iteration : 19 exp_var :  0.9656167519661081\n",
      "Iteration : 20 exp_var :  0.9534622595016272\n",
      "Iteration : 21 exp_var :  0.9418476523499071\n",
      "Iteration : 22 exp_var :  0.9713657606254138\n",
      "Iteration : 23 exp_var :  0.9693308683360076\n",
      "Iteration : 24 exp_var :  0.9585077893039394\n",
      "Iteration : 25 exp_var :  0.9736527544185842\n",
      "Iteration : 26 exp_var :  0.9121584263052436\n",
      "Iteration : 27 exp_var :  0.9563624181380539\n",
      "Iteration : 28 exp_var :  0.9615625910694473\n",
      "Iteration : 29 exp_var :  0.9552202420562437\n",
      "Iteration : 30 exp_var :  0.974492616592589\n",
      "Iteration : 31 exp_var :  0.9761647020749806\n",
      "Iteration : 32 exp_var :  0.970906467568753\n",
      "Iteration : 33 exp_var :  0.9728319789488723\n",
      "Iteration : 34 exp_var :  0.9668218532493748\n",
      "Iteration : 35 exp_var :  0.9761789275815406\n",
      "Iteration : 36 exp_var :  0.976818401278543\n",
      "Iteration : 37 exp_var :  0.9849684337701201\n",
      "Iteration : 38 exp_var :  0.9832944732538523\n"
     ]
    }
   ],
   "source": [
    "for i in range(d_vals.shape[0]):\n",
    "    exp_var.append(find_exp_var(d_vals[i], m))\n",
    "    print(\"Iteration : \"  + str(i) + \" exp_var : \", find_exp_var(d_vals[i], m))"
   ]
  },
  {
   "cell_type": "code",
   "execution_count": 12,
   "metadata": {},
   "outputs": [
    {
     "name": "stdout",
     "output_type": "stream",
     "text": [
      "[0.48927956949277174, 0.48796648747677895, 0.8518424183925962, 0.9023424337882986, 0.8707176856889991, 0.5587203462324425, 0.8610804305303413, 0.8014771332464156, 0.9214012463062128, 0.8726922040806107, 0.9149129954353201, 0.9263389158112039, 0.9489037769733552, 0.9627004546060594, 0.9557829190600977, 0.9309167024854985, 0.9464539366287056, 0.9588308422052885, 0.9526165316673141, 0.9492221207436127, 0.9412393213309094, 0.9634103611744418, 0.9559668755999207, 0.9668459617064578, 0.9602287460928329, 0.9776762018724845, 0.9707642513426067, 0.9657291899999925, 0.9647769438153876, 0.9701758121131039, 0.9740679194487423, 0.9762195658024313, 0.9803113482939493, 0.9667709158904293, 0.9792828866250439, 0.9711865002834322, 0.9790579983062043, 0.9773909017850467, 0.976356472212989]\n"
     ]
    }
   ],
   "source": [
    "print(exp_var)"
   ]
  },
  {
   "cell_type": "code",
   "execution_count": 13,
   "metadata": {},
   "outputs": [
    {
     "data": {
      "text/plain": [
       "<matplotlib.legend.Legend at 0x7f3310735fd0>"
      ]
     },
     "execution_count": 13,
     "metadata": {},
     "output_type": "execute_result"
    },
    {
     "data": {
      "image/png": "[encoded data removed]",
      "text/plain": [
       "<Figure size 432x288 with 1 Axes>"
      ]
     },
     "metadata": {
      "needs_background": "light"
     },
     "output_type": "display_data"
    }
   ],
   "source": [
    "import matplotlib.pyplot as plt\n",
    "plt.plot(d_vals, exp_var, color= 'r', label = 'Explainable Variance')\n",
    "plt.xlabel(\"Value of dimensionality = d\")\n",
    "plt.ylabel(\"Explainable variance\")\n",
    "plt.legend()"
   ]
  },
  {
   "cell_type": "code",
   "execution_count": null,
   "metadata": {},
   "outputs": [],
   "source": []
  }
 ],
 "metadata": {
  "kernelspec": {
   "display_name": "Python 3.9.13 ('adaenv')",
   "language": "python",
   "name": "python3"
  },
  "language_info": {
   "codemirror_mode": {
    "name": "ipython",
    "version": 3
   },
   "file_extension": ".py",
   "mimetype": "text/x-python",
   "name": "python",
   "nbconvert_exporter": "python",
   "pygments_lexer": "ipython3",
   "version": "3.9.13"
  },
  "orig_nbformat": 4,
  "vscode": {
   "interpreter": {
    "hash": "3b4875b0c0e5921500ba89c3f7c140a0122aaa6b3aec3bf88d6de6cfd93ac7ec"
   }
  }
 },
 "nbformat": 4,
 "nbformat_minor": 2
}
