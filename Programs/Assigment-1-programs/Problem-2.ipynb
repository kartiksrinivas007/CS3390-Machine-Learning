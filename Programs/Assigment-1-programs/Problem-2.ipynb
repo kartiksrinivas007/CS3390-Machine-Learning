{
 "cells": [
  {
   "cell_type": "code",
   "execution_count": 12,
   "metadata": {},
   "outputs": [],
   "source": [
    "import numpy as np\n",
    "from sklearn import *"
   ]
  },
  {
   "cell_type": "code",
   "execution_count": 13,
   "metadata": {},
   "outputs": [],
   "source": [
    "m  = 60000;\n",
    "low = 1\n",
    "high = 40"
   ]
  },
  {
   "cell_type": "code",
   "execution_count": 14,
   "metadata": {},
   "outputs": [
    {
     "name": "stdout",
     "output_type": "stream",
     "text": [
      "[ 1  2  3  4  5  6  7  8  9 10 11 12 13 14 15 16 17 18 19 20 21 22 23 24\n",
      " 25 26 27 28 29 30 31 32 33 34 35 36 37 38 39]\n"
     ]
    }
   ],
   "source": [
    "d_vals = np.arange(low, high, 1)\n",
    "exp_var = []\n",
    "print(d_vals)"
   ]
  },
  {
   "cell_type": "code",
   "execution_count": 15,
   "metadata": {},
   "outputs": [],
   "source": [
    "def gen_x(d, m):\n",
    "    X = np.random.normal(0, 1, (d,2*m))\n",
    "    return X"
   ]
  },
  {
   "cell_type": "code",
   "execution_count": 16,
   "metadata": {},
   "outputs": [],
   "source": [
    "def gen_y(X,d,m,w_b):\n",
    "    y = np.zeros((2*m ,))\n",
    "    for i in range(2*m):\n",
    "        samp = np.random.normal(w_b @ X[:, i], 1)\n",
    "        y[i] = samp\n",
    "    return y"
   ]
  },
  {
   "cell_type": "code",
   "execution_count": 17,
   "metadata": {},
   "outputs": [],
   "source": [
    "def find_exp_var(d,m, prnt = False):\n",
    "    X = gen_x(d, m)\n",
    "    w_b = np.random.randn(d,) #the bayes optimal w\n",
    "    y = gen_y(X, d, m, w_b)\n",
    "    X_train, X_test, y_train, y_test = model_selection.train_test_split(X.T, y, test_size = 0.5, shuffle = True)\n",
    "    reg = linear_model.LinearRegression().fit(X_train, y_train)\n",
    "    score = reg.score(X_test,y_test)\n",
    "    coefficients = reg.coef_\n",
    "    y_predict = reg.predict(X_test)\n",
    "    exvar = metrics.explained_variance_score(y_test,y_predict)\n",
    "    if(prnt):\n",
    "        print(coefficients)\n",
    "        print(w_b)\n",
    "    return exvar\n"
   ]
  },
  {
   "cell_type": "code",
   "execution_count": 18,
   "metadata": {},
   "outputs": [
    {
     "name": "stdout",
     "output_type": "stream",
     "text": [
      "[-1.0294763   0.97391138 -1.15329299 -1.9395024   2.47316485]\n",
      "[-1.02284657  0.97696468 -1.15387428 -1.937152    2.46657585]\n"
     ]
    },
    {
     "data": {
      "text/plain": [
       "0.9069059827335766"
      ]
     },
     "execution_count": 18,
     "metadata": {},
     "output_type": "execute_result"
    }
   ],
   "source": [
    "find_exp_var(5, m, prnt = True)\n",
    "find_exp_var(6, m)"
   ]
  },
  {
   "cell_type": "code",
   "execution_count": 19,
   "metadata": {},
   "outputs": [
    {
     "data": {
      "text/plain": [
       "39"
      ]
     },
     "execution_count": 19,
     "metadata": {},
     "output_type": "execute_result"
    }
   ],
   "source": [
    "d_vals.shape[0]"
   ]
  },
  {
   "cell_type": "code",
   "execution_count": 20,
   "metadata": {},
   "outputs": [
    {
     "name": "stdout",
     "output_type": "stream",
     "text": [
      "Iteration : 0 exp_var :  0.35867596808106617\n",
      "Iteration : 1 exp_var :  0.6762733317535846\n",
      "Iteration : 2 exp_var :  0.6694858853606136\n",
      "Iteration : 3 exp_var :  0.8671232884870519\n",
      "Iteration : 4 exp_var :  0.780187400509457\n",
      "Iteration : 5 exp_var :  0.7386327293006836\n",
      "Iteration : 6 exp_var :  0.8138124384837064\n",
      "Iteration : 7 exp_var :  0.8450358111785671\n",
      "Iteration : 8 exp_var :  0.6678666995277526\n",
      "Iteration : 9 exp_var :  0.9215199884633669\n",
      "Iteration : 10 exp_var :  0.8771276340382181\n",
      "Iteration : 11 exp_var :  0.822346587029284\n",
      "Iteration : 12 exp_var :  0.9149767028169944\n",
      "Iteration : 13 exp_var :  0.9435180046687507\n",
      "Iteration : 14 exp_var :  0.9052063570007159\n",
      "Iteration : 15 exp_var :  0.9486042218360962\n",
      "Iteration : 16 exp_var :  0.9339794611753746\n",
      "Iteration : 17 exp_var :  0.9678832919442841\n",
      "Iteration : 18 exp_var :  0.9463361973364962\n",
      "Iteration : 19 exp_var :  0.9342487983480249\n",
      "Iteration : 20 exp_var :  0.9691511735642622\n",
      "Iteration : 21 exp_var :  0.9621699014824161\n",
      "Iteration : 22 exp_var :  0.9402729045636259\n",
      "Iteration : 23 exp_var :  0.9708882363559804\n",
      "Iteration : 24 exp_var :  0.9710877677714589\n",
      "Iteration : 25 exp_var :  0.9644760769831052\n",
      "Iteration : 26 exp_var :  0.9669299083267664\n",
      "Iteration : 27 exp_var :  0.9675957724566258\n",
      "Iteration : 28 exp_var :  0.9747692763142698\n",
      "Iteration : 29 exp_var :  0.9689766245801903\n",
      "Iteration : 30 exp_var :  0.9637842064930785\n",
      "Iteration : 31 exp_var :  0.9766172106169924\n",
      "Iteration : 32 exp_var :  0.9617466285803056\n",
      "Iteration : 33 exp_var :  0.963675938183912\n",
      "Iteration : 34 exp_var :  0.9687615332656061\n",
      "Iteration : 35 exp_var :  0.9754951213994993\n",
      "Iteration : 36 exp_var :  0.9726561108646896\n",
      "Iteration : 37 exp_var :  0.9762881335572258\n",
      "Iteration : 38 exp_var :  0.9710345961399739\n"
     ]
    }
   ],
   "source": [
    "for i in range(d_vals.shape[0]):\n",
    "    exp_var.append(find_exp_var(d_vals[i], m))\n",
    "    print(\"Iteration : \"  + str(i) + \" exp_var : \", find_exp_var(d_vals[i], m))"
   ]
  },
  {
   "cell_type": "code",
   "execution_count": 21,
   "metadata": {},
   "outputs": [
    {
     "name": "stdout",
     "output_type": "stream",
     "text": [
      "[0.03909289719481812, 0.37776778316797066, 0.8483770851847056, 0.9012818726743009, 0.43953883080456413, 0.8148456568548526, 0.830096192913861, 0.9354422027678111, 0.9001880954929395, 0.920933086461779, 0.8914445589959104, 0.9259463561728163, 0.9464060326952892, 0.945322721541083, 0.9304193162522754, 0.8924212848904637, 0.9473274298648041, 0.9746681190007509, 0.9585603292762718, 0.926023785197749, 0.939132490328955, 0.9504744828857241, 0.9709764163230274, 0.9655620904744533, 0.9601493546621187, 0.9590973283472218, 0.9746317030448828, 0.9501211201020381, 0.952798025835616, 0.9708474359309048, 0.9679837457631945, 0.961920479085825, 0.969032159026107, 0.9730294795750587, 0.9724797003345746, 0.9692738180257351, 0.9739160828587585, 0.9693374996034841, 0.9718285236402533]\n"
     ]
    }
   ],
   "source": [
    "print(exp_var)"
   ]
  },
  {
   "cell_type": "code",
   "execution_count": 22,
   "metadata": {},
   "outputs": [
    {
     "data": {
      "text/plain": [
       "<matplotlib.legend.Legend at 0x7fc0db6af400>"
      ]
     },
     "execution_count": 22,
     "metadata": {},
     "output_type": "execute_result"
    },
    {
     "data": {
      "image/png": "[encoded data removed]",
      "text/plain": [
       "<Figure size 640x480 with 1 Axes>"
      ]
     },
     "metadata": {},
     "output_type": "display_data"
    }
   ],
   "source": [
    "import matplotlib.pyplot as plt\n",
    "plt.plot(d_vals, exp_var, color= 'r', label = 'Explainable Variance')\n",
    "plt.xlabel(\"Value of dimensionality = d\")\n",
    "plt.ylabel(\"Explainable variance\")\n",
    "plt.legend()"
   ]
  }
 ],
 "metadata": {
  "kernelspec": {
   "display_name": "Python 3.9.13 ('base')",
   "language": "python",
   "name": "python3"
  },
  "language_info": {
   "codemirror_mode": {
    "name": "ipython",
    "version": 3
   },
   "file_extension": ".py",
   "mimetype": "text/x-python",
   "name": "python",
   "nbconvert_exporter": "python",
   "pygments_lexer": "ipython3",
   "version": "3.9.13"
  },
  "orig_nbformat": 4,
  "vscode": {
   "interpreter": {
    "hash": "8201e9342a4a492ddbd4e81efec90b2ccf0d205cda2cc39ac893f0c43374b5e0"
   }
  }
 },
 "nbformat": 4,
 "nbformat_minor": 2
}
