{
 "cells": [
  {
   "cell_type": "code",
   "execution_count": 46,
   "metadata": {},
   "outputs": [],
   "source": [
    "import scipy as sc\n",
    "import numpy as np\n",
    "from sklearn import * "
   ]
  },
  {
   "cell_type": "code",
   "execution_count": 47,
   "metadata": {},
   "outputs": [],
   "source": [
    "shape = 8"
   ]
  },
  {
   "cell_type": "code",
   "execution_count": 48,
   "metadata": {},
   "outputs": [],
   "source": [
    "A = datasets.make_spd_matrix(shape,random_state=42)\n",
    "b = np.random.rand(shape)\n",
    "c = np.random.rand()"
   ]
  },
  {
   "cell_type": "code",
   "execution_count": 49,
   "metadata": {},
   "outputs": [
    {
     "data": {
      "text/plain": [
       "0.6063098329492193"
      ]
     },
     "execution_count": 49,
     "metadata": {},
     "output_type": "execute_result"
    }
   ],
   "source": [
    "c"
   ]
  },
  {
   "cell_type": "code",
   "execution_count": 50,
   "metadata": {},
   "outputs": [],
   "source": [
    "v_analytical = np.linalg.pinv(A) @ b "
   ]
  },
  {
   "cell_type": "code",
   "execution_count": 51,
   "metadata": {},
   "outputs": [
    {
     "data": {
      "text/plain": [
       "array([2.15138513, 0.25411652, 1.63582254, 0.48157341, 2.42962875,\n",
       "       1.04265018, 0.53961188, 0.76816845])"
      ]
     },
     "execution_count": 51,
     "metadata": {},
     "output_type": "execute_result"
    }
   ],
   "source": [
    "v_analytical "
   ]
  },
  {
   "cell_type": "code",
   "execution_count": 52,
   "metadata": {},
   "outputs": [
    {
     "data": {
      "text/plain": [
       "3.914814903763022"
      ]
     },
     "execution_count": 52,
     "metadata": {},
     "output_type": "execute_result"
    }
   ],
   "source": [
    "v_analytical.T @ A @ v_analytical"
   ]
  },
  {
   "cell_type": "code",
   "execution_count": 53,
   "metadata": {},
   "outputs": [],
   "source": [
    "def calc_objective(v, A, b, c):\n",
    "    return v.T @ A @ v  - 2*b.T@v  + c "
   ]
  },
  {
   "cell_type": "code",
   "execution_count": 54,
   "metadata": {},
   "outputs": [],
   "source": [
    "def calc_gradient(v, A, b):\n",
    "    return 2*A@v - 2*b"
   ]
  },
  {
   "cell_type": "code",
   "execution_count": 55,
   "metadata": {},
   "outputs": [
    {
     "name": "stdout",
     "output_type": "stream",
     "text": [
      "step size =  0.054542218749924855\n",
      "Cost = -0.19874, iteration = 0\n",
      "Cost = -3.24596, iteration = 100\n",
      "Cost = -3.30196, iteration = 200\n",
      "Cost = -3.30773, iteration = 300\n",
      "Cost = -3.30841, iteration = 400\n",
      "Cost = -3.30849, iteration = 500\n",
      "Cost = -3.30850, iteration = 600\n",
      "Cost = -3.30850, iteration = 700\n",
      "Cost = -3.30851, iteration = 800\n",
      "Cost = -3.30851, iteration = 900\n"
     ]
    }
   ],
   "source": [
    "#to find the minima, I will run GD, parameter = w\n",
    "v_gd = np.ones(shape,)* 0.1\n",
    "step_size = 1/(2*np.linalg.norm(A, order= 2) + np.linalg.norm(b) )\n",
    "print(\"step size = \", step_size)\n",
    "max_iter = 1000\n",
    "for iter in range(max_iter):\n",
    "    v_gd = v_gd - step_size*calc_gradient(v_gd, A, b)\n",
    "    cost = calc_objective(v_gd, A, b, c)\n",
    "    if(iter % 100 == 0):\n",
    "        print(\"Cost = %.5f, iteration = %d\"%{cost, iter})\n"
   ]
  },
  {
   "cell_type": "code",
   "execution_count": 60,
   "metadata": {},
   "outputs": [],
   "source": [
    "Error_gradient_descent = np.linalg.norm (v_gd - v_analytical)"
   ]
  },
  {
   "cell_type": "code",
   "execution_count": 62,
   "metadata": {},
   "outputs": [
    {
     "name": "stdout",
     "output_type": "stream",
     "text": [
      "Cost = 0.03725, iteration = 0\n",
      "Cost = -0.12122, iteration = 100\n",
      "Cost = -0.26382, iteration = 200\n",
      "Cost = -0.39858, iteration = 300\n",
      "Cost = -0.52545, iteration = 400\n",
      "Cost = -0.64429, iteration = 500\n",
      "Cost = -0.75541, iteration = 600\n",
      "Cost = -0.85932, iteration = 700\n",
      "Cost = -0.95659, iteration = 800\n",
      "Cost = -1.04773, iteration = 900\n",
      "Cost = -1.13326, iteration = 1000\n",
      "Cost = -1.21361, iteration = 1100\n",
      "Cost = -1.28921, iteration = 1200\n",
      "Cost = -1.36041, iteration = 1300\n",
      "Cost = -1.42755, iteration = 1400\n",
      "Cost = -1.49093, iteration = 1500\n",
      "Cost = -1.55082, iteration = 1600\n",
      "Cost = -1.60746, iteration = 1700\n",
      "Cost = -1.66108, iteration = 1800\n",
      "Cost = -1.71188, iteration = 1900\n",
      "Cost = -1.76004, iteration = 2000\n",
      "Cost = -1.80573, iteration = 2100\n",
      "Cost = -1.84912, iteration = 2200\n",
      "Cost = -1.89033, iteration = 2300\n",
      "Cost = -1.92950, iteration = 2400\n",
      "Cost = -1.96675, iteration = 2500\n",
      "Cost = -2.00218, iteration = 2600\n",
      "Cost = -2.03592, iteration = 2700\n",
      "Cost = -2.06803, iteration = 2800\n",
      "Cost = -2.09862, iteration = 2900\n",
      "Cost = -2.12777, iteration = 3000\n",
      "Cost = -2.15554, iteration = 3100\n",
      "Cost = -2.18202, iteration = 3200\n",
      "Cost = -2.20727, iteration = 3300\n",
      "Cost = -2.23134, iteration = 3400\n",
      "Cost = -2.25430, iteration = 3500\n",
      "Cost = -2.27620, iteration = 3600\n",
      "Cost = -2.29709, iteration = 3700\n",
      "Cost = -2.31702, iteration = 3800\n",
      "Cost = -2.33603, iteration = 3900\n",
      "Cost = -2.35417, iteration = 4000\n",
      "Cost = -2.37147, iteration = 4100\n",
      "Cost = -2.38798, iteration = 4200\n",
      "Cost = -2.40372, iteration = 4300\n",
      "Cost = -2.41874, iteration = 4400\n",
      "Cost = -2.43305, iteration = 4500\n",
      "Cost = -2.44671, iteration = 4600\n",
      "Cost = -2.45972, iteration = 4700\n",
      "Cost = -2.47212, iteration = 4800\n",
      "Cost = -2.48394, iteration = 4900\n",
      "Cost = -2.49520, iteration = 5000\n",
      "Cost = -2.50592, iteration = 5100\n",
      "Cost = -2.51612, iteration = 5200\n",
      "Cost = -2.52583, iteration = 5300\n",
      "Cost = -2.53506, iteration = 5400\n",
      "Cost = -2.54384, iteration = 5500\n",
      "Cost = -2.55219, iteration = 5600\n",
      "Cost = -2.56011, iteration = 5700\n",
      "Cost = -2.56763, iteration = 5800\n",
      "Cost = -2.57476, iteration = 5900\n",
      "Cost = -2.58153, iteration = 6000\n",
      "Cost = -2.58793, iteration = 6100\n",
      "Cost = -2.59399, iteration = 6200\n",
      "Cost = -2.59973, iteration = 6300\n",
      "Cost = -2.60514, iteration = 6400\n",
      "Cost = -2.61025, iteration = 6500\n",
      "Cost = -2.61507, iteration = 6600\n",
      "Cost = -2.61961, iteration = 6700\n",
      "Cost = -2.62388, iteration = 6800\n",
      "Cost = -2.62788, iteration = 6900\n",
      "Cost = -2.63164, iteration = 7000\n",
      "Cost = -2.63515, iteration = 7100\n",
      "Cost = -2.63843, iteration = 7200\n",
      "Cost = -2.64149, iteration = 7300\n",
      "Cost = -2.64434, iteration = 7400\n",
      "Cost = -2.64698, iteration = 7500\n",
      "Cost = -2.64942, iteration = 7600\n",
      "Cost = -2.65166, iteration = 7700\n",
      "Cost = -2.65373, iteration = 7800\n",
      "Cost = -2.65562, iteration = 7900\n",
      "Cost = -2.65734, iteration = 8000\n",
      "Cost = -2.65889, iteration = 8100\n",
      "Cost = -2.66029, iteration = 8200\n",
      "Cost = -2.66153, iteration = 8300\n",
      "Cost = -2.66263, iteration = 8400\n",
      "Cost = -2.66359, iteration = 8500\n",
      "Cost = -2.66441, iteration = 8600\n",
      "Cost = -2.66511, iteration = 8700\n",
      "Cost = -2.66568, iteration = 8800\n",
      "Cost = -2.66613, iteration = 8900\n",
      "Cost = -2.66646, iteration = 9000\n",
      "Cost = -2.66669, iteration = 9100\n",
      "Cost = -2.66680, iteration = 9200\n",
      "Cost = -2.66682, iteration = 9300\n",
      "Cost = -2.66673, iteration = 9400\n",
      "Cost = -2.66655, iteration = 9500\n",
      "Cost = -2.66628, iteration = 9600\n",
      "Cost = -2.66592, iteration = 9700\n",
      "Cost = -2.66548, iteration = 9800\n",
      "Cost = -2.66496, iteration = 9900\n"
     ]
    }
   ],
   "source": [
    "v_sgd = np.ones(shape, )* 0.1\n",
    "max_iter = 10000\n",
    "factor = 100\n",
    "new_step_size = step_size/factor\n",
    "epsilon = np.random.randn(shape,)\n",
    "for iter in range (max_iter):\n",
    "    v_sgd = v_sgd - new_step_size*(0.5*epsilon +calc_gradient(v_sgd, A, b) )     \n",
    "    cost = calc_objective(v_sgd, A, b, c)\n",
    "    if(iter % 100 == 0):\n",
    "        print(\"Cost = %.5f, iteration = %d\"%(cost, iter))"
   ]
  },
  {
   "cell_type": "code",
   "execution_count": 63,
   "metadata": {},
   "outputs": [
    {
     "data": {
      "text/plain": [
       "array([ 2.34916565,  0.10402141,  0.92623216,  0.09095013,  2.45905581,\n",
       "       -0.00431002,  0.19201963,  0.12402593])"
      ]
     },
     "execution_count": 63,
     "metadata": {},
     "output_type": "execute_result"
    }
   ],
   "source": [
    "v_sgd"
   ]
  },
  {
   "cell_type": "code",
   "execution_count": null,
   "metadata": {},
   "outputs": [],
   "source": []
  }
 ],
 "metadata": {
  "kernelspec": {
   "display_name": "Python 3.8.10 ('myML')",
   "language": "python",
   "name": "python3"
  },
  "language_info": {
   "codemirror_mode": {
    "name": "ipython",
    "version": 3
   },
   "file_extension": ".py",
   "mimetype": "text/x-python",
   "name": "python",
   "nbconvert_exporter": "python",
   "pygments_lexer": "ipython3",
   "version": "3.8.10"
  },
  "orig_nbformat": 4,
  "vscode": {
   "interpreter": {
    "hash": "461c633d1ea7d645fb6c8542d05741bfc7cc51cdd4f0b160fd571fee5730823f"
   }
  }
 },
 "nbformat": 4,
 "nbformat_minor": 2
}
